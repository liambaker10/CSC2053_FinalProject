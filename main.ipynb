{
 "cells": [
  {
   "cell_type": "code",
   "execution_count": 53,
   "id": "13eb4207",
   "metadata": {},
   "outputs": [],
   "source": [
    "import torch\n",
    "from torch import nn\n",
    "from torch.utils.data import DataLoader\n",
    "from torchvision import datasets\n",
    "from torchvision.transforms import ToTensor\n",
    "import torchvision.models as models\n",
    "import matplotlib.pyplot as plt\n",
    "\n",
    "training_data = datasets.FashionMNIST(\n",
    "    root=\"data\",\n",
    "    train=True,\n",
    "    download=True,\n",
    "    transform=ToTensor()\n",
    ")\n",
    "\n",
    "test_data = datasets.FashionMNIST(\n",
    "    root=\"data\",\n",
    "    train=False,\n",
    "    download=True,\n",
    "    transform=ToTensor()\n",
    ")\n",
    "\n",
    "train_dataloader = DataLoader(training_data, batch_size=64)\n",
    "test_dataloader = DataLoader(test_data, batch_size=64)\n",
    "\n",
    "class NeuralNetwork(nn.Module):\n",
    "    def __init__(self):\n",
    "        super(NeuralNetwork, self).__init__()\n",
    "        self.flatten = nn.Flatten()\n",
    "        self.linear_relu_stack = nn.Sequential(\n",
    "            nn.Linear(28*28, 512),\n",
    "            nn.ReLU(),\n",
    "            nn.Linear(512, 512),\n",
    "            nn.ReLU(),\n",
    "            nn.Linear(512, 10),\n",
    "        )\n",
    "\n",
    "    def forward(self, x):\n",
    "        x = self.flatten(x)\n",
    "        logits = self.linear_relu_stack(x)\n",
    "        return logits\n",
    "\n",
    "model = NeuralNetwork()"
   ]
  },
  {
   "cell_type": "code",
   "execution_count": 54,
   "id": "94706f95",
   "metadata": {},
   "outputs": [],
   "source": [
    "labels_map = [\n",
    "    \"T-Shirt\",\n",
    "    \"Trouser\",\n",
    "    \"Pullover\",\n",
    "    \"Dress\",\n",
    "    \"Coat\",\n",
    "    \"Sandal\",\n",
    "    \"Shirt\",\n",
    "    \"Sneaker\",\n",
    "    \"Bag\",\n",
    "    \"Ankle Boot\",\n",
    "    ]\n"
   ]
  },
  {
   "cell_type": "code",
   "execution_count": 55,
   "id": "b5556e94",
   "metadata": {},
   "outputs": [],
   "source": [
    "class NeuralNetwork(nn.Module):\n",
    "    def __init__(self):\n",
    "        super().__init__()\n",
    "        self.flatten = nn.Flatten()\n",
    "        self.linear_relu_stack = nn.Sequential(\n",
    "            nn.Linear(28*28, 512),\n",
    "            nn.ReLU(),\n",
    "            nn.Linear(512, 512),\n",
    "            nn.ReLU(),\n",
    "            nn.Linear(512, 10),\n",
    "        )\n",
    "\n",
    "    def forward(self, x):\n",
    "        x = self.flatten(x)\n",
    "        logits = self.linear_relu_stack(x)\n",
    "        return logits"
   ]
  },
  {
   "cell_type": "code",
   "execution_count": 56,
   "id": "ab2873d0",
   "metadata": {},
   "outputs": [
    {
     "name": "stdout",
     "output_type": "stream",
     "text": [
      "Predicted class: tensor([2])\n"
     ]
    }
   ],
   "source": [
    "X = torch.rand(1, 28, 28)\n",
    "logits = model(X)\n",
    "pred_probab = nn.Softmax(dim=1)(logits)\n",
    "y_pred = pred_probab.argmax(1)\n",
    "print(f\"Predicted class: {y_pred}\")"
   ]
  },
  {
   "cell_type": "code",
   "execution_count": 57,
   "id": "ddb9be49",
   "metadata": {},
   "outputs": [],
   "source": [
    "def train_loop(dataloader, model, loss_fn, optimizer):\n",
    "    size = len(dataloader.dataset)\n",
    "    for batch, (X, y) in enumerate(dataloader):\n",
    "        # Compute prediction and loss\n",
    "        pred = model(X)\n",
    "        loss = loss_fn(pred, y)\n",
    "\n",
    "        # Backpropagation\n",
    "        optimizer.zero_grad()\n",
    "        loss.backward()\n",
    "        optimizer.step()\n",
    "\n",
    "        if batch % 100 == 0:\n",
    "            loss, current = loss.item(), (batch + 1) * len(X)\n",
    "            print(f\"loss: {loss:>7f}  [{current:>5d}/{size:>5d}]\")\n",
    "\n",
    "\n",
    "def test_loop(dataloader, model, loss_fn):\n",
    "    size = len(dataloader.dataset)\n",
    "    num_batches = len(dataloader)\n",
    "    test_loss, correct = 0, 0\n",
    "\n",
    "    with torch.no_grad():\n",
    "        for X, y in dataloader:\n",
    "            pred = model(X)\n",
    "            test_loss += loss_fn(pred, y).item()\n",
    "            correct += (pred.argmax(1) == y).type(torch.float).sum().item()\n",
    "\n",
    "    test_loss /= num_batches\n",
    "    correct /= size\n",
    "    print(f\"Test Error: \\n Accuracy: {(100*correct):>0.1f}%, Avg loss: {test_loss:>8f} \\n\")"
   ]
  },
  {
   "cell_type": "code",
   "execution_count": 58,
   "id": "ef3d5e60",
   "metadata": {},
   "outputs": [],
   "source": [
    "learning_rate = 1e-3\n",
    "batch_size = 64\n",
    "epochs = 5"
   ]
  },
  {
   "cell_type": "code",
   "execution_count": 59,
   "id": "9831c918",
   "metadata": {
    "scrolled": true
   },
   "outputs": [
    {
     "name": "stdout",
     "output_type": "stream",
     "text": [
      "Epoch 1\n",
      "-------------------------------\n",
      "loss: 2.302863  [   64/60000]\n",
      "loss: 2.297112  [ 6464/60000]\n",
      "loss: 2.270856  [12864/60000]\n",
      "loss: 2.260822  [19264/60000]\n",
      "loss: 2.259379  [25664/60000]\n",
      "loss: 2.220991  [32064/60000]\n",
      "loss: 2.228801  [38464/60000]\n",
      "loss: 2.198803  [44864/60000]\n",
      "loss: 2.208432  [51264/60000]\n",
      "loss: 2.161767  [57664/60000]\n",
      "Test Error: \n",
      " Accuracy: 42.6%, Avg loss: 2.158652 \n",
      "\n",
      "Epoch 2\n",
      "-------------------------------\n",
      "loss: 2.181437  [   64/60000]\n",
      "loss: 2.167919  [ 6464/60000]\n",
      "loss: 2.104109  [12864/60000]\n",
      "loss: 2.110289  [19264/60000]\n",
      "loss: 2.078853  [25664/60000]\n",
      "loss: 2.011367  [32064/60000]\n",
      "loss: 2.038225  [38464/60000]\n",
      "loss: 1.966069  [44864/60000]\n",
      "loss: 1.987565  [51264/60000]\n",
      "loss: 1.889261  [57664/60000]\n",
      "Test Error: \n",
      " Accuracy: 53.2%, Avg loss: 1.892575 \n",
      "\n",
      "Epoch 3\n",
      "-------------------------------\n",
      "loss: 1.947482  [   64/60000]\n",
      "loss: 1.906142  [ 6464/60000]\n",
      "loss: 1.782224  [12864/60000]\n",
      "loss: 1.807080  [19264/60000]\n",
      "loss: 1.719250  [25664/60000]\n",
      "loss: 1.662089  [32064/60000]\n",
      "loss: 1.680063  [38464/60000]\n",
      "loss: 1.588611  [44864/60000]\n",
      "loss: 1.624668  [51264/60000]\n",
      "loss: 1.497190  [57664/60000]\n",
      "Test Error: \n",
      " Accuracy: 58.4%, Avg loss: 1.520876 \n",
      "\n",
      "Epoch 4\n",
      "-------------------------------\n",
      "loss: 1.608174  [   64/60000]\n",
      "loss: 1.561651  [ 6464/60000]\n",
      "loss: 1.405694  [12864/60000]\n",
      "loss: 1.461955  [19264/60000]\n",
      "loss: 1.364190  [25664/60000]\n",
      "loss: 1.350392  [32064/60000]\n",
      "loss: 1.361781  [38464/60000]\n",
      "loss: 1.294175  [44864/60000]\n",
      "loss: 1.337668  [51264/60000]\n",
      "loss: 1.224800  [57664/60000]\n",
      "Test Error: \n",
      " Accuracy: 62.1%, Avg loss: 1.253750 \n",
      "\n",
      "Epoch 5\n",
      "-------------------------------\n",
      "loss: 1.345025  [   64/60000]\n",
      "loss: 1.318458  [ 6464/60000]\n",
      "loss: 1.148448  [12864/60000]\n",
      "loss: 1.243623  [19264/60000]\n",
      "loss: 1.132015  [25664/60000]\n",
      "loss: 1.148872  [32064/60000]\n",
      "loss: 1.169538  [38464/60000]\n",
      "loss: 1.115276  [44864/60000]\n",
      "loss: 1.161344  [51264/60000]\n",
      "loss: 1.069034  [57664/60000]\n",
      "Test Error: \n",
      " Accuracy: 64.3%, Avg loss: 1.090719 \n",
      "\n",
      "Done!\n"
     ]
    }
   ],
   "source": [
    "loss_fn = nn.CrossEntropyLoss()\n",
    "optimizer = torch.optim.SGD(model.parameters(), lr=learning_rate)\n",
    "\n",
    "epochs = 5\n",
    "for t in range(epochs):\n",
    "    print(f\"Epoch {t+1}\\n-------------------------------\")\n",
    "    train_loop(train_dataloader, model, loss_fn, optimizer)\n",
    "    test_loop(test_dataloader, model, loss_fn)\n",
    "print(\"Done!\")"
   ]
  },
  {
   "cell_type": "code",
   "execution_count": 60,
   "id": "176cf757",
   "metadata": {},
   "outputs": [],
   "source": [
    "x = test_data[0][0]"
   ]
  },
  {
   "cell_type": "code",
   "execution_count": 61,
   "id": "28129f79",
   "metadata": {},
   "outputs": [],
   "source": [
    "y = test_data[0][1]"
   ]
  },
  {
   "cell_type": "code",
   "execution_count": 62,
   "id": "44e3cf12",
   "metadata": {},
   "outputs": [
    {
     "name": "stdout",
     "output_type": "stream",
     "text": [
      "Ankle Boot\n",
      "Ankle Boot\n"
     ]
    }
   ],
   "source": [
    "with torch.no_grad():\n",
    "    pred=model(x)\n",
    "    prediction = labels_map[pred[0].argmax(0)]\n",
    "    truth = labels_map[y]\n",
    "    print(prediction + \"\\n\" + truth)"
   ]
  },
  {
   "cell_type": "code",
   "execution_count": null,
   "id": "2b699aad",
   "metadata": {},
   "outputs": [],
   "source": []
  }
 ],
 "metadata": {
  "kernelspec": {
   "display_name": "Python 3 (ipykernel)",
   "language": "python",
   "name": "python3"
  },
  "language_info": {
   "codemirror_mode": {
    "name": "ipython",
    "version": 3
   },
   "file_extension": ".py",
   "mimetype": "text/x-python",
   "name": "python",
   "nbconvert_exporter": "python",
   "pygments_lexer": "ipython3",
   "version": "3.9.13"
  }
 },
 "nbformat": 4,
 "nbformat_minor": 5
}
