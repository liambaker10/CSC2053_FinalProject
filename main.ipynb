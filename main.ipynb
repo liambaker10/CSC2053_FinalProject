{
 "cells": [
  {
   "cell_type": "code",
   "execution_count": 1,
   "id": "3dbbf2c9",
   "metadata": {
    "scrolled": true
   },
   "outputs": [],
   "source": [
    "# pip install torchvision"
   ]
  },
  {
   "cell_type": "code",
   "execution_count": 2,
   "id": "f53ea3c6",
   "metadata": {},
   "outputs": [],
   "source": [
    "# pip install torch"
   ]
  },
  {
   "cell_type": "code",
   "execution_count": 3,
   "id": "13eb4207",
   "metadata": {
    "scrolled": true
   },
   "outputs": [
    {
     "name": "stdout",
     "output_type": "stream",
     "text": [
      "Downloading http://fashion-mnist.s3-website.eu-central-1.amazonaws.com/train-images-idx3-ubyte.gz\n",
      "Downloading http://fashion-mnist.s3-website.eu-central-1.amazonaws.com/train-images-idx3-ubyte.gz to data\\FashionMNIST\\raw\\train-images-idx3-ubyte.gz\n"
     ]
    },
    {
     "name": "stderr",
     "output_type": "stream",
     "text": [
      "100%|██████████| 26421880/26421880 [00:05<00:00, 4845605.10it/s]\n"
     ]
    },
    {
     "name": "stdout",
     "output_type": "stream",
     "text": [
      "Extracting data\\FashionMNIST\\raw\\train-images-idx3-ubyte.gz to data\\FashionMNIST\\raw\n",
      "\n",
      "Downloading http://fashion-mnist.s3-website.eu-central-1.amazonaws.com/train-labels-idx1-ubyte.gz\n",
      "Downloading http://fashion-mnist.s3-website.eu-central-1.amazonaws.com/train-labels-idx1-ubyte.gz to data\\FashionMNIST\\raw\\train-labels-idx1-ubyte.gz\n"
     ]
    },
    {
     "name": "stderr",
     "output_type": "stream",
     "text": [
      "100%|██████████| 29515/29515 [00:00<00:00, 307744.60it/s]\n"
     ]
    },
    {
     "name": "stdout",
     "output_type": "stream",
     "text": [
      "Extracting data\\FashionMNIST\\raw\\train-labels-idx1-ubyte.gz to data\\FashionMNIST\\raw\n",
      "\n",
      "Downloading http://fashion-mnist.s3-website.eu-central-1.amazonaws.com/t10k-images-idx3-ubyte.gz\n",
      "Downloading http://fashion-mnist.s3-website.eu-central-1.amazonaws.com/t10k-images-idx3-ubyte.gz to data\\FashionMNIST\\raw\\t10k-images-idx3-ubyte.gz\n"
     ]
    },
    {
     "name": "stderr",
     "output_type": "stream",
     "text": [
      "100%|██████████| 4422102/4422102 [00:01<00:00, 3395777.22it/s]\n"
     ]
    },
    {
     "name": "stdout",
     "output_type": "stream",
     "text": [
      "Extracting data\\FashionMNIST\\raw\\t10k-images-idx3-ubyte.gz to data\\FashionMNIST\\raw\n",
      "\n",
      "Downloading http://fashion-mnist.s3-website.eu-central-1.amazonaws.com/t10k-labels-idx1-ubyte.gz\n",
      "Downloading http://fashion-mnist.s3-website.eu-central-1.amazonaws.com/t10k-labels-idx1-ubyte.gz to data\\FashionMNIST\\raw\\t10k-labels-idx1-ubyte.gz\n"
     ]
    },
    {
     "name": "stderr",
     "output_type": "stream",
     "text": [
      "100%|██████████| 5148/5148 [00:00<00:00, 430588.22it/s]"
     ]
    },
    {
     "name": "stdout",
     "output_type": "stream",
     "text": [
      "Extracting data\\FashionMNIST\\raw\\t10k-labels-idx1-ubyte.gz to data\\FashionMNIST\\raw\n",
      "\n"
     ]
    },
    {
     "name": "stderr",
     "output_type": "stream",
     "text": [
      "\n"
     ]
    }
   ],
   "source": [
    "import torch\n",
    "from torch import nn\n",
    "from torch.utils.data import DataLoader\n",
    "from torchvision import datasets\n",
    "from torchvision.transforms import ToTensor\n",
    "import torchvision.models as models\n",
    "import matplotlib.pyplot as plt\n",
    "\n",
    "training_data = datasets.FashionMNIST(\n",
    "    root=\"data\",\n",
    "    train=True,\n",
    "    download=True,\n",
    "    transform=ToTensor()\n",
    ")\n",
    "\n",
    "test_data = datasets.FashionMNIST(\n",
    "    root=\"data\",\n",
    "    train=False,\n",
    "    download=True,\n",
    "    transform=ToTensor()\n",
    ")\n",
    "\n",
    "train_dataloader = DataLoader(training_data, batch_size=64)\n",
    "test_dataloader = DataLoader(test_data, batch_size=64)\n",
    "\n",
    "class NeuralNetwork(nn.Module):\n",
    "    def __init__(self):\n",
    "        super(NeuralNetwork, self).__init__()\n",
    "        self.flatten = nn.Flatten()\n",
    "        self.linear_relu_stack = nn.Sequential(\n",
    "            nn.Linear(28*28, 512),\n",
    "            nn.ReLU(),\n",
    "            nn.Linear(512, 512),\n",
    "            nn.ReLU(),\n",
    "            nn.Linear(512, 10),\n",
    "        )\n",
    "\n",
    "    def forward(self, x):\n",
    "        x = self.flatten(x)\n",
    "        logits = self.linear_relu_stack(x)\n",
    "        return logits\n",
    "\n",
    "model = NeuralNetwork()"
   ]
  },
  {
   "cell_type": "code",
   "execution_count": 4,
   "id": "94706f95",
   "metadata": {},
   "outputs": [],
   "source": [
    "labels_map = [\n",
    "    \"T-Shirt\",\n",
    "    \"Trouser\",\n",
    "    \"Pullover\",\n",
    "    \"Dress\",\n",
    "    \"Coat\",\n",
    "    \"Sandal\",\n",
    "    \"Shirt\",\n",
    "    \"Sneaker\",\n",
    "    \"Bag\",\n",
    "    \"Ankle Boot\",\n",
    "    ]\n"
   ]
  },
  {
   "cell_type": "code",
   "execution_count": 5,
   "id": "b5556e94",
   "metadata": {},
   "outputs": [],
   "source": [
    "class NeuralNetwork(nn.Module):\n",
    "    def __init__(self):\n",
    "        super().__init__()\n",
    "        self.flatten = nn.Flatten()\n",
    "        self.linear_relu_stack = nn.Sequential(\n",
    "            nn.Linear(28*28, 512),\n",
    "            nn.ReLU(),\n",
    "            nn.Linear(512, 512),\n",
    "            nn.ReLU(),\n",
    "            nn.Linear(512, 10),\n",
    "        )\n",
    "\n",
    "    def forward(self, x):\n",
    "        x = self.flatten(x)\n",
    "        logits = self.linear_relu_stack(x)\n",
    "        return logits"
   ]
  },
  {
   "cell_type": "code",
   "execution_count": 6,
   "id": "ab2873d0",
   "metadata": {},
   "outputs": [
    {
     "name": "stdout",
     "output_type": "stream",
     "text": [
      "Predicted class: tensor([8])\n"
     ]
    }
   ],
   "source": [
    "X = torch.rand(1, 28, 28)\n",
    "logits = model(X)\n",
    "pred_probab = nn.Softmax(dim=1)(logits)\n",
    "y_pred = pred_probab.argmax(1)\n",
    "print(f\"Predicted class: {y_pred}\")"
   ]
  },
  {
   "cell_type": "code",
   "execution_count": 7,
   "id": "ddb9be49",
   "metadata": {},
   "outputs": [],
   "source": [
    "def train_loop(dataloader, model, loss_fn, optimizer):\n",
    "    size = len(dataloader.dataset)\n",
    "    for batch, (X, y) in enumerate(dataloader):\n",
    "        # Compute prediction and loss\n",
    "        pred = model(X)\n",
    "        loss = loss_fn(pred, y)\n",
    "\n",
    "        # Backpropagation\n",
    "        optimizer.zero_grad()\n",
    "        loss.backward()\n",
    "        optimizer.step()\n",
    "\n",
    "        if batch % 100 == 0:\n",
    "            loss, current = loss.item(), (batch + 1) * len(X)\n",
    "            print(f\"loss: {loss:>7f}  [{current:>5d}/{size:>5d}]\")\n",
    "\n",
    "\n",
    "def test_loop(dataloader, model, loss_fn):\n",
    "    size = len(dataloader.dataset)\n",
    "    num_batches = len(dataloader)\n",
    "    test_loss, correct = 0, 0\n",
    "\n",
    "    with torch.no_grad():\n",
    "        for X, y in dataloader:\n",
    "            pred = model(X)\n",
    "            test_loss += loss_fn(pred, y).item()\n",
    "            correct += (pred.argmax(1) == y).type(torch.float).sum().item()\n",
    "\n",
    "    test_loss /= num_batches\n",
    "    correct /= size\n",
    "    print(f\"Test Error: \\n Accuracy: {(100*correct):>0.1f}%, Avg loss: {test_loss:>8f} \\n\")"
   ]
  },
  {
   "cell_type": "code",
   "execution_count": 8,
   "id": "ef3d5e60",
   "metadata": {},
   "outputs": [],
   "source": [
    "learning_rate = 1e-3\n",
    "batch_size = 64\n",
    "epochs = 5"
   ]
  },
  {
   "cell_type": "code",
   "execution_count": 9,
   "id": "9831c918",
   "metadata": {
    "scrolled": true
   },
   "outputs": [
    {
     "name": "stdout",
     "output_type": "stream",
     "text": [
      "Epoch 1\n",
      "-------------------------------\n",
      "loss: 2.294603  [   64/60000]\n",
      "loss: 2.281461  [ 6464/60000]\n",
      "loss: 2.269599  [12864/60000]\n",
      "loss: 2.263091  [19264/60000]\n",
      "loss: 2.241760  [25664/60000]\n",
      "loss: 2.217853  [32064/60000]\n",
      "loss: 2.213265  [38464/60000]\n",
      "loss: 2.186796  [44864/60000]\n",
      "loss: 2.187571  [51264/60000]\n",
      "loss: 2.147801  [57664/60000]\n",
      "Test Error: \n",
      " Accuracy: 51.7%, Avg loss: 2.140068 \n",
      "\n",
      "Epoch 2\n",
      "-------------------------------\n",
      "loss: 2.151928  [   64/60000]\n",
      "loss: 2.135676  [ 6464/60000]\n",
      "loss: 2.078463  [12864/60000]\n",
      "loss: 2.090251  [19264/60000]\n",
      "loss: 2.032611  [25664/60000]\n",
      "loss: 1.978696  [32064/60000]\n",
      "loss: 1.995765  [38464/60000]\n",
      "loss: 1.920676  [44864/60000]\n",
      "loss: 1.927269  [51264/60000]\n",
      "loss: 1.845744  [57664/60000]\n",
      "Test Error: \n",
      " Accuracy: 54.2%, Avg loss: 1.844279 \n",
      "\n",
      "Epoch 3\n",
      "-------------------------------\n",
      "loss: 1.879360  [   64/60000]\n",
      "loss: 1.846591  [ 6464/60000]\n",
      "loss: 1.726514  [12864/60000]\n",
      "loss: 1.768052  [19264/60000]\n",
      "loss: 1.660658  [25664/60000]\n",
      "loss: 1.614383  [32064/60000]\n",
      "loss: 1.634523  [38464/60000]\n",
      "loss: 1.543427  [44864/60000]\n",
      "loss: 1.569013  [51264/60000]\n",
      "loss: 1.464972  [57664/60000]\n",
      "Test Error: \n",
      " Accuracy: 61.1%, Avg loss: 1.484436 \n",
      "\n",
      "Epoch 4\n",
      "-------------------------------\n",
      "loss: 1.548830  [   64/60000]\n",
      "loss: 1.519503  [ 6464/60000]\n",
      "loss: 1.373035  [12864/60000]\n",
      "loss: 1.446415  [19264/60000]\n",
      "loss: 1.331555  [25664/60000]\n",
      "loss: 1.328874  [32064/60000]\n",
      "loss: 1.342792  [38464/60000]\n",
      "loss: 1.275550  [44864/60000]\n",
      "loss: 1.306404  [51264/60000]\n",
      "loss: 1.211228  [57664/60000]\n",
      "Test Error: \n",
      " Accuracy: 63.4%, Avg loss: 1.235167 \n",
      "\n",
      "Epoch 5\n",
      "-------------------------------\n",
      "loss: 1.309439  [   64/60000]\n",
      "loss: 1.296118  [ 6464/60000]\n",
      "loss: 1.133656  [12864/60000]\n",
      "loss: 1.238362  [19264/60000]\n",
      "loss: 1.114604  [25664/60000]\n",
      "loss: 1.142288  [32064/60000]\n",
      "loss: 1.163719  [38464/60000]\n",
      "loss: 1.107349  [44864/60000]\n",
      "loss: 1.140722  [51264/60000]\n",
      "loss: 1.059257  [57664/60000]\n",
      "Test Error: \n",
      " Accuracy: 64.8%, Avg loss: 1.076979 \n",
      "\n",
      "Done!\n"
     ]
    }
   ],
   "source": [
    "loss_fn = nn.CrossEntropyLoss()\n",
    "optimizer = torch.optim.SGD(model.parameters(), lr=learning_rate)\n",
    "\n",
    "epochs = 5\n",
    "for t in range(epochs):\n",
    "    print(f\"Epoch {t+1}\\n-------------------------------\")\n",
    "    train_loop(train_dataloader, model, loss_fn, optimizer)\n",
    "    test_loop(test_dataloader, model, loss_fn)\n",
    "print(\"Done!\")"
   ]
  },
  {
   "cell_type": "code",
   "execution_count": 10,
   "id": "176cf757",
   "metadata": {},
   "outputs": [],
   "source": [
    "x = test_data[0][0]"
   ]
  },
  {
   "cell_type": "code",
   "execution_count": 11,
   "id": "28129f79",
   "metadata": {},
   "outputs": [],
   "source": [
    "y = test_data[0][1]"
   ]
  },
  {
   "cell_type": "code",
   "execution_count": 12,
   "id": "44e3cf12",
   "metadata": {},
   "outputs": [
    {
     "name": "stdout",
     "output_type": "stream",
     "text": [
      "Ankle Boot\n",
      "Ankle Boot\n"
     ]
    }
   ],
   "source": [
    "with torch.no_grad():\n",
    "    pred=model(x)\n",
    "    prediction = labels_map[pred[0].argmax(0)]\n",
    "    truth = labels_map[y]\n",
    "    print(prediction + \"\\n\" + truth)"
   ]
  },
  {
   "cell_type": "code",
   "execution_count": 13,
   "id": "d7a6296e",
   "metadata": {},
   "outputs": [],
   "source": [
    "x = test_data[1][0]"
   ]
  },
  {
   "cell_type": "code",
   "execution_count": 14,
   "id": "4029b5a5",
   "metadata": {},
   "outputs": [],
   "source": [
    "y = test_data[1][1]"
   ]
  },
  {
   "cell_type": "code",
   "execution_count": 15,
   "id": "2b699aad",
   "metadata": {},
   "outputs": [
    {
     "name": "stdout",
     "output_type": "stream",
     "text": [
      "Pullover\n",
      "Pullover\n"
     ]
    }
   ],
   "source": [
    "with torch.no_grad():\n",
    "    pred=model(x)\n",
    "    prediction = labels_map[pred[0].argmax(0)]\n",
    "    truth = labels_map[y]\n",
    "    print(prediction + \"\\n\" + truth)"
   ]
  },
  {
   "cell_type": "code",
   "execution_count": 16,
   "id": "339ab21a",
   "metadata": {},
   "outputs": [],
   "source": [
    "x = test_data[2][0]"
   ]
  },
  {
   "cell_type": "code",
   "execution_count": 17,
   "id": "49a721a6",
   "metadata": {},
   "outputs": [],
   "source": [
    "y = test_data[2][1]"
   ]
  },
  {
   "cell_type": "code",
   "execution_count": 18,
   "id": "ea9b1c49",
   "metadata": {},
   "outputs": [
    {
     "name": "stdout",
     "output_type": "stream",
     "text": [
      "Trouser\n",
      "Trouser\n"
     ]
    }
   ],
   "source": [
    "with torch.no_grad():\n",
    "    pred=model(x)\n",
    "    prediction = labels_map[pred[0].argmax(0)]\n",
    "    truth = labels_map[y]\n",
    "    print(prediction + \"\\n\" + truth)"
   ]
  },
  {
   "cell_type": "code",
   "execution_count": 19,
   "id": "2d6e8283",
   "metadata": {},
   "outputs": [],
   "source": [
    "x = test_data[3][0]"
   ]
  },
  {
   "cell_type": "code",
   "execution_count": 20,
   "id": "a22f0d47",
   "metadata": {},
   "outputs": [],
   "source": [
    "y = test_data[3][1]"
   ]
  },
  {
   "cell_type": "code",
   "execution_count": 21,
   "id": "5f8f77a8",
   "metadata": {},
   "outputs": [
    {
     "name": "stdout",
     "output_type": "stream",
     "text": [
      "Trouser\n",
      "Trouser\n"
     ]
    }
   ],
   "source": [
    "with torch.no_grad():\n",
    "    pred=model(x)\n",
    "    prediction = labels_map[pred[0].argmax(0)]\n",
    "    truth = labels_map[y]\n",
    "    print(prediction + \"\\n\" + truth)"
   ]
  },
  {
   "cell_type": "code",
   "execution_count": null,
   "id": "0d721eb8",
   "metadata": {},
   "outputs": [],
   "source": []
  }
 ],
 "metadata": {
  "kernelspec": {
   "display_name": "Python 3 (ipykernel)",
   "language": "python",
   "name": "python3"
  },
  "language_info": {
   "codemirror_mode": {
    "name": "ipython",
    "version": 3
   },
   "file_extension": ".py",
   "mimetype": "text/x-python",
   "name": "python",
   "nbconvert_exporter": "python",
   "pygments_lexer": "ipython3",
   "version": "3.10.9"
  }
 },
 "nbformat": 4,
 "nbformat_minor": 5
}
