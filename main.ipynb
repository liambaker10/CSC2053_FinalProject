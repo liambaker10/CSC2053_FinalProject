{
 "cells": [
  {
   "cell_type": "code",
   "execution_count": 1,
   "id": "3dbbf2c9",
   "metadata": {
    "scrolled": true
   },
   "outputs": [],
   "source": [
    "# pip install torchvision"
   ]
  },
  {
   "cell_type": "code",
   "execution_count": 2,
   "id": "f53ea3c6",
   "metadata": {},
   "outputs": [],
   "source": [
    "# pip install torch"
   ]
  },
  {
   "cell_type": "code",
   "execution_count": 3,
   "id": "13eb4207",
   "metadata": {
    "scrolled": true
   },
   "outputs": [],
   "source": [
    "import torch\n",
    "from torch import nn\n",
    "from torch.utils.data import DataLoader\n",
    "from torchvision import datasets\n",
    "from torchvision.transforms import ToTensor\n",
    "import torchvision.models as models\n",
    "import matplotlib.pyplot as plt\n",
    "\n",
    "training_data = datasets.FashionMNIST(\n",
    "    root=\"data\",\n",
    "    train=True,\n",
    "    download=True,\n",
    "    transform=ToTensor()\n",
    ")\n",
    "\n",
    "test_data = datasets.FashionMNIST(\n",
    "    root=\"data\",\n",
    "    train=False,\n",
    "    download=True,\n",
    "    transform=ToTensor()\n",
    ")\n",
    "\n",
    "train_dataloader = DataLoader(training_data, batch_size=64)\n",
    "test_dataloader = DataLoader(test_data, batch_size=64)\n",
    "\n",
    "class NeuralNetwork(nn.Module):\n",
    "    def __init__(self):\n",
    "        super(NeuralNetwork, self).__init__()\n",
    "        self.flatten = nn.Flatten()\n",
    "        self.linear_relu_stack = nn.Sequential(\n",
    "            nn.Linear(28*28, 512),\n",
    "            nn.ReLU(),\n",
    "            nn.Linear(512, 512),\n",
    "            nn.ReLU(),\n",
    "            nn.Linear(512, 10),\n",
    "        )\n",
    "\n",
    "    def forward(self, x):\n",
    "        x = self.flatten(x)\n",
    "        logits = self.linear_relu_stack(x)\n",
    "        return logits\n",
    "\n",
    "model = NeuralNetwork()"
   ]
  },
  {
   "cell_type": "code",
   "execution_count": 4,
   "id": "94706f95",
   "metadata": {},
   "outputs": [],
   "source": [
    "labels_map = [\n",
    "    \"T-Shirt\",\n",
    "    \"Trouser\",\n",
    "    \"Pullover\",\n",
    "    \"Dress\",\n",
    "    \"Coat\",\n",
    "    \"Sandal\",\n",
    "    \"Shirt\",\n",
    "    \"Sneaker\",\n",
    "    \"Bag\",\n",
    "    \"Ankle Boot\",\n",
    "    ]\n"
   ]
  },
  {
   "cell_type": "code",
   "execution_count": 5,
   "id": "b5556e94",
   "metadata": {},
   "outputs": [],
   "source": [
    "class NeuralNetwork(nn.Module):\n",
    "    def __init__(self):\n",
    "        super().__init__()\n",
    "        self.flatten = nn.Flatten()\n",
    "        self.linear_relu_stack = nn.Sequential(\n",
    "            nn.Linear(28*28, 512),\n",
    "            nn.ReLU(),\n",
    "            nn.Linear(512, 512),\n",
    "            nn.ReLU(),\n",
    "            nn.Linear(512, 10),\n",
    "        )\n",
    "\n",
    "    def forward(self, x):\n",
    "        x = self.flatten(x)\n",
    "        logits = self.linear_relu_stack(x)\n",
    "        return logits"
   ]
  },
  {
   "cell_type": "code",
   "execution_count": 6,
   "id": "ab2873d0",
   "metadata": {},
   "outputs": [
    {
     "name": "stdout",
     "output_type": "stream",
     "text": [
      "Predicted class: tensor([9])\n"
     ]
    }
   ],
   "source": [
    "X = torch.rand(1, 28, 28)\n",
    "logits = model(X)\n",
    "pred_probab = nn.Softmax(dim=1)(logits)\n",
    "y_pred = pred_probab.argmax(1)\n",
    "print(f\"Predicted class: {y_pred}\")"
   ]
  },
  {
   "cell_type": "code",
   "execution_count": 7,
   "id": "ddb9be49",
   "metadata": {},
   "outputs": [],
   "source": [
    "def train_loop(dataloader, model, loss_fn, optimizer):\n",
    "    size = len(dataloader.dataset)\n",
    "    for batch, (X, y) in enumerate(dataloader):\n",
    "        # Compute prediction and loss\n",
    "        pred = model(X)\n",
    "        loss = loss_fn(pred, y)\n",
    "\n",
    "        # Backpropagation\n",
    "        optimizer.zero_grad()\n",
    "        loss.backward()\n",
    "        optimizer.step()\n",
    "\n",
    "        if batch % 100 == 0:\n",
    "            loss, current = loss.item(), (batch + 1) * len(X)\n",
    "            print(f\"loss: {loss:>7f}  [{current:>5d}/{size:>5d}]\")\n",
    "\n",
    "\n",
    "def test_loop(dataloader, model, loss_fn):\n",
    "    size = len(dataloader.dataset)\n",
    "    num_batches = len(dataloader)\n",
    "    test_loss, correct = 0, 0\n",
    "\n",
    "    with torch.no_grad():\n",
    "        for X, y in dataloader:\n",
    "            pred = model(X)\n",
    "            test_loss += loss_fn(pred, y).item()\n",
    "            correct += (pred.argmax(1) == y).type(torch.float).sum().item()\n",
    "\n",
    "    test_loss /= num_batches\n",
    "    correct /= size\n",
    "    print(f\"Test Error: \\n Accuracy: {(100*correct):>0.1f}%, Avg loss: {test_loss:>8f} \\n\")"
   ]
  },
  {
   "cell_type": "code",
   "execution_count": 8,
   "id": "ef3d5e60",
   "metadata": {},
   "outputs": [],
   "source": [
    "learning_rate = 1e-3\n",
    "batch_size = 64\n",
    "epochs = 5"
   ]
  },
  {
   "cell_type": "code",
   "execution_count": null,
   "id": "9831c918",
   "metadata": {
    "scrolled": true
   },
   "outputs": [
    {
     "name": "stdout",
     "output_type": "stream",
     "text": [
      "Epoch 1\n",
      "-------------------------------\n",
      "loss: 2.304719  [   64/60000]\n",
      "loss: 2.289096  [ 6464/60000]\n",
      "loss: 2.269886  [12864/60000]\n",
      "loss: 2.264598  [19264/60000]\n",
      "loss: 2.238632  [25664/60000]\n",
      "loss: 2.223098  [32064/60000]\n",
      "loss: 2.235129  [38464/60000]\n",
      "loss: 2.198269  [44864/60000]\n",
      "loss: 2.198400  [51264/60000]\n",
      "loss: 2.166816  [57664/60000]\n",
      "Test Error: \n",
      " Accuracy: 42.9%, Avg loss: 2.154327 \n",
      "\n",
      "Epoch 2\n",
      "-------------------------------\n",
      "loss: 2.168119  [   64/60000]\n",
      "loss: 2.156372  [ 6464/60000]\n",
      "loss: 2.092924  [12864/60000]\n",
      "loss: 2.116521  [19264/60000]\n",
      "loss: 2.057436  [25664/60000]\n",
      "loss: 2.009606  [32064/60000]\n",
      "loss: 2.048885  [38464/60000]\n",
      "loss: 1.958939  [44864/60000]\n",
      "loss: 1.970810  [51264/60000]\n",
      "loss: 1.909485  [57664/60000]\n",
      "Test Error: \n",
      " Accuracy: 51.0%, Avg loss: 1.888207 \n",
      "\n",
      "Epoch 3\n",
      "-------------------------------\n",
      "loss: 1.923879  [   64/60000]\n",
      "loss: 1.893699  [ 6464/60000]\n",
      "loss: 1.765015  [12864/60000]\n",
      "loss: 1.821395  [19264/60000]\n",
      "loss: 1.710498  [25664/60000]\n",
      "loss: 1.665500  [32064/60000]\n",
      "loss: 1.712562  [38464/60000]\n",
      "loss: 1.592152  [44864/60000]\n",
      "loss: 1.623990  [51264/60000]\n",
      "loss: 1.536943  [57664/60000]\n",
      "Test Error: \n",
      " Accuracy: 58.6%, Avg loss: 1.529724 \n",
      "\n",
      "Epoch 4\n",
      "-------------------------------\n",
      "loss: 1.596640  [   64/60000]\n",
      "loss: 1.563686  [ 6464/60000]\n",
      "loss: 1.402279  [12864/60000]\n",
      "loss: 1.491122  [19264/60000]\n",
      "loss: 1.367084  [25664/60000]\n"
     ]
    }
   ],
   "source": [
    "loss_fn = nn.CrossEntropyLoss()\n",
    "optimizer = torch.optim.SGD(model.parameters(), lr=learning_rate)\n",
    "\n",
    "epochs = 5\n",
    "for t in range(epochs):\n",
    "    print(f\"Epoch {t+1}\\n-------------------------------\")\n",
    "    train_loop(train_dataloader, model, loss_fn, optimizer)\n",
    "    test_loop(test_dataloader, model, loss_fn)\n",
    "print(\"Done!\")"
   ]
  },
  {
   "cell_type": "code",
   "execution_count": null,
   "id": "176cf757",
   "metadata": {},
   "outputs": [],
   "source": [
    "x = test_data[0][0]"
   ]
  },
  {
   "cell_type": "code",
   "execution_count": null,
   "id": "28129f79",
   "metadata": {},
   "outputs": [],
   "source": [
    "y = test_data[0][1]"
   ]
  },
  {
   "cell_type": "code",
   "execution_count": null,
   "id": "44e3cf12",
   "metadata": {},
   "outputs": [],
   "source": [
    "with torch.no_grad():\n",
    "    pred=model(x)\n",
    "    prediction = labels_map[pred[0].argmax(0)]\n",
    "    truth = labels_map[y]\n",
    "    print(prediction + \"\\n\" + truth)"
   ]
  },
  {
   "cell_type": "code",
   "execution_count": null,
   "id": "d7a6296e",
   "metadata": {},
   "outputs": [],
   "source": [
    "x = test_data[1][0]"
   ]
  },
  {
   "cell_type": "code",
   "execution_count": null,
   "id": "4029b5a5",
   "metadata": {},
   "outputs": [],
   "source": [
    "y = test_data[1][1]"
   ]
  },
  {
   "cell_type": "code",
   "execution_count": null,
   "id": "2b699aad",
   "metadata": {},
   "outputs": [],
   "source": [
    "with torch.no_grad():\n",
    "    pred=model(x)\n",
    "    prediction = labels_map[pred[0].argmax(0)]\n",
    "    truth = labels_map[y]\n",
    "    print(prediction + \"\\n\" + truth)"
   ]
  },
  {
   "cell_type": "code",
   "execution_count": null,
   "id": "339ab21a",
   "metadata": {},
   "outputs": [],
   "source": [
    "x = test_data[2][0]"
   ]
  },
  {
   "cell_type": "code",
   "execution_count": null,
   "id": "49a721a6",
   "metadata": {},
   "outputs": [],
   "source": [
    "y = test_data[2][1]"
   ]
  },
  {
   "cell_type": "code",
   "execution_count": null,
   "id": "ea9b1c49",
   "metadata": {},
   "outputs": [],
   "source": [
    "with torch.no_grad():\n",
    "    pred=model(x)\n",
    "    prediction = labels_map[pred[0].argmax(0)]\n",
    "    truth = labels_map[y]\n",
    "    print(prediction + \"\\n\" + truth)"
   ]
  },
  {
   "cell_type": "code",
   "execution_count": null,
   "id": "2d6e8283",
   "metadata": {},
   "outputs": [],
   "source": [
    "x = test_data[3][0]"
   ]
  },
  {
   "cell_type": "code",
   "execution_count": null,
   "id": "a22f0d47",
   "metadata": {},
   "outputs": [],
   "source": [
    "y = test_data[3][1]"
   ]
  },
  {
   "cell_type": "code",
   "execution_count": null,
   "id": "5f8f77a8",
   "metadata": {},
   "outputs": [],
   "source": [
    "with torch.no_grad():\n",
    "    pred=model(x)\n",
    "    prediction = labels_map[pred[0].argmax(0)]\n",
    "    truth = labels_map[y]\n",
    "    print(prediction + \"\\n\" + truth)"
   ]
  },
  {
   "cell_type": "code",
   "execution_count": null,
   "id": "0d721eb8",
   "metadata": {},
   "outputs": [],
   "source": [
    "x = test_data[4][0]"
   ]
  },
  {
   "cell_type": "code",
   "execution_count": null,
   "id": "2af70117",
   "metadata": {},
   "outputs": [],
   "source": [
    "y = test_data[4][1]"
   ]
  },
  {
   "cell_type": "code",
   "execution_count": null,
   "id": "d927661e",
   "metadata": {},
   "outputs": [],
   "source": [
    "with torch.no_grad():\n",
    "    pred=model(x)\n",
    "    prediction = labels_map[pred[0].argmax(0)]\n",
    "    truth = labels_map[y]\n",
    "    print(prediction + \"\\n\" + truth)"
   ]
  },
  {
   "cell_type": "code",
   "execution_count": null,
   "id": "c1856f21",
   "metadata": {},
   "outputs": [],
   "source": [
    "x = test_data[5][0]\n",
    "y = test_data[5][1]"
   ]
  },
  {
   "cell_type": "code",
   "execution_count": null,
   "id": "c82df288",
   "metadata": {},
   "outputs": [],
   "source": [
    "with torch.no_grad():\n",
    "    pred=model(x)\n",
    "    prediction = labels_map[pred[0].argmax(0)]\n",
    "    truth = labels_map[y]\n",
    "    print(prediction + \"\\n\" + truth)"
   ]
  },
  {
   "cell_type": "code",
   "execution_count": null,
   "id": "c3c7952c",
   "metadata": {},
   "outputs": [],
   "source": [
    "x = test_data[6][0]\n",
    "y = test_data[6][1]"
   ]
  },
  {
   "cell_type": "code",
   "execution_count": null,
   "id": "dc07d7ca",
   "metadata": {},
   "outputs": [],
   "source": [
    "with torch.no_grad():\n",
    "    pred=model(x)\n",
    "    prediction = labels_map[pred[0].argmax(0)]\n",
    "    truth = labels_map[y]\n",
    "    print(prediction + \"\\n\" + truth)"
   ]
  },
  {
   "cell_type": "code",
   "execution_count": null,
   "id": "b462b018",
   "metadata": {},
   "outputs": [],
   "source": [
    "x = test_data[7][0]\n",
    "y = test_data[7][1]"
   ]
  },
  {
   "cell_type": "code",
   "execution_count": null,
   "id": "c8237c2e",
   "metadata": {},
   "outputs": [],
   "source": [
    "with torch.no_grad():\n",
    "    pred=model(x)\n",
    "    prediction = labels_map[pred[0].argmax(0)]\n",
    "    truth = labels_map[y]\n",
    "    print(prediction + \"\\n\" + truth)"
   ]
  },
  {
   "cell_type": "code",
   "execution_count": null,
   "id": "d5430c52",
   "metadata": {},
   "outputs": [],
   "source": [
    "x = test_data[8][0]\n",
    "y = test_data[8][1]\n"
   ]
  },
  {
   "cell_type": "code",
   "execution_count": null,
   "id": "b0c1e267",
   "metadata": {},
   "outputs": [],
   "source": [
    "with torch.no_grad():\n",
    "    pred=model(x)\n",
    "    prediction = labels_map[pred[0].argmax(0)]\n",
    "    truth = labels_map[y]\n",
    "    print(prediction + \"\\n\" + truth)"
   ]
  },
  {
   "cell_type": "code",
   "execution_count": null,
   "id": "a9695bf1",
   "metadata": {},
   "outputs": [],
   "source": [
    "x = test_data[9][0]\n",
    "y = test_data[9][1]"
   ]
  },
  {
   "cell_type": "code",
   "execution_count": null,
   "id": "7209c12a",
   "metadata": {},
   "outputs": [],
   "source": [
    "with torch.no_grad():\n",
    "    pred=model(x)\n",
    "    prediction = labels_map[pred[0].argmax(0)]\n",
    "    truth = labels_map[y]\n",
    "    print(prediction + \"\\n\" + truth)"
   ]
  },
  {
   "cell_type": "code",
   "execution_count": null,
   "id": "9efddaf8",
   "metadata": {},
   "outputs": [],
   "source": []
  }
 ],
 "metadata": {
  "kernelspec": {
   "display_name": "Python 3 (ipykernel)",
   "language": "python",
   "name": "python3"
  },
  "language_info": {
   "codemirror_mode": {
    "name": "ipython",
    "version": 3
   },
   "file_extension": ".py",
   "mimetype": "text/x-python",
   "name": "python",
   "nbconvert_exporter": "python",
   "pygments_lexer": "ipython3",
   "version": "3.10.9"
  }
 },
 "nbformat": 4,
 "nbformat_minor": 5
}
