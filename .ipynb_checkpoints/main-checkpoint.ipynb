{
 "cells": [
  {
   "cell_type": "code",
   "execution_count": 1,
   "id": "3dbbf2c9",
   "metadata": {
    "scrolled": true
   },
   "outputs": [],
   "source": [
    "# pip install torchvision"
   ]
  },
  {
   "cell_type": "code",
   "execution_count": 2,
   "id": "f53ea3c6",
   "metadata": {},
   "outputs": [],
   "source": [
    "# pip install torch"
   ]
  },
  {
   "cell_type": "code",
   "execution_count": 3,
   "id": "13eb4207",
   "metadata": {
    "scrolled": true
   },
   "outputs": [],
   "source": [
    "import torch\n",
    "from torch import nn\n",
    "from torch.utils.data import DataLoader\n",
    "from torchvision import datasets\n",
    "from torchvision.transforms import ToTensor\n",
    "import torchvision.models as models\n",
    "import matplotlib.pyplot as plt\n",
    "\n",
    "training_data = datasets.FashionMNIST(\n",
    "    root=\"data\",\n",
    "    train=True,\n",
    "    download=True,\n",
    "    transform=ToTensor()\n",
    ")\n",
    "\n",
    "test_data = datasets.FashionMNIST(\n",
    "    root=\"data\",\n",
    "    train=False,\n",
    "    download=True,\n",
    "    transform=ToTensor()\n",
    ")\n",
    "\n",
    "train_dataloader = DataLoader(training_data, batch_size=64)\n",
    "test_dataloader = DataLoader(test_data, batch_size=64)\n",
    "\n",
    "class NeuralNetwork(nn.Module):\n",
    "    def __init__(self):\n",
    "        super(NeuralNetwork, self).__init__()\n",
    "        self.flatten = nn.Flatten()\n",
    "        self.linear_relu_stack = nn.Sequential(\n",
    "            nn.Linear(28*28, 512),\n",
    "            nn.ReLU(),\n",
    "            nn.Linear(512, 512),\n",
    "            nn.ReLU(),\n",
    "            nn.Linear(512, 512),\n",
    "            nn.ReLU(),\n",
    "            nn.Linear(512, 10),\n",
    "        )\n",
    "\n",
    "    def forward(self, x):\n",
    "        x = self.flatten(x)\n",
    "        logits = self.linear_relu_stack(x)\n",
    "        return logits\n",
    "\n",
    "model = NeuralNetwork()"
   ]
  },
  {
   "cell_type": "code",
   "execution_count": 4,
   "id": "94706f95",
   "metadata": {},
   "outputs": [],
   "source": [
    "labels_map = [\n",
    "    \"T-Shirt\",\n",
    "    \"Trouser\",\n",
    "    \"Pullover\",\n",
    "    \"Dress\",\n",
    "    \"Coat\",\n",
    "    \"Sandal\",\n",
    "    \"Shirt\",\n",
    "    \"Sneaker\",\n",
    "    \"Bag\",\n",
    "    \"Ankle Boot\",\n",
    "    ]\n"
   ]
  },
  {
   "cell_type": "code",
   "execution_count": 5,
   "id": "b5556e94",
   "metadata": {},
   "outputs": [],
   "source": [
    "class NeuralNetwork(nn.Module):\n",
    "    def __init__(self):\n",
    "        super().__init__()\n",
    "        self.flatten = nn.Flatten()\n",
    "        self.linear_relu_stack = nn.Sequential(\n",
    "            nn.Linear(28*28, 512),\n",
    "            nn.ReLU(),\n",
    "            nn.Linear(512, 512),\n",
    "            nn.ReLU(),\n",
    "            nn.Linear(512, 512),\n",
    "            nn.ReLU(),\n",
    "            nn.Linear(512, 10),\n",
    "        )\n",
    "\n",
    "    def forward(self, x):\n",
    "        x = self.flatten(x)\n",
    "        logits = self.linear_relu_stack(x)\n",
    "        return logits"
   ]
  },
  {
   "cell_type": "code",
   "execution_count": 6,
   "id": "ab2873d0",
   "metadata": {},
   "outputs": [
    {
     "name": "stdout",
     "output_type": "stream",
     "text": [
      "Predicted class: tensor([5])\n"
     ]
    }
   ],
   "source": [
    "X = torch.rand(1, 28, 28)\n",
    "logits = model(X)\n",
    "pred_probab = nn.Softmax(dim=1)(logits)\n",
    "y_pred = pred_probab.argmax(1)\n",
    "print(f\"Predicted class: {y_pred}\")"
   ]
  },
  {
   "cell_type": "code",
   "execution_count": 7,
   "id": "ddb9be49",
   "metadata": {},
   "outputs": [],
   "source": [
    "def train_loop(dataloader, model, loss_fn, optimizer):\n",
    "    size = len(dataloader.dataset)\n",
    "    for batch, (X, y) in enumerate(dataloader):\n",
    "        # Compute prediction and loss\n",
    "        pred = model(X)\n",
    "        loss = loss_fn(pred, y)\n",
    "\n",
    "        # Backpropagation\n",
    "        optimizer.zero_grad()\n",
    "        loss.backward()\n",
    "        optimizer.step()\n",
    "\n",
    "        if batch % 100 == 0:\n",
    "            loss, current = loss.item(), (batch + 1) * len(X)\n",
    "            print(f\"loss: {loss:>7f}  [{current:>5d}/{size:>5d}]\")\n",
    "\n",
    "\n",
    "def test_loop(dataloader, model, loss_fn):\n",
    "    size = len(dataloader.dataset)\n",
    "    num_batches = len(dataloader)\n",
    "    test_loss, correct = 0, 0\n",
    "\n",
    "    with torch.no_grad():\n",
    "        for X, y in dataloader:\n",
    "            pred = model(X)\n",
    "            test_loss += loss_fn(pred, y).item()\n",
    "            correct += (pred.argmax(1) == y).type(torch.float).sum().item()\n",
    "\n",
    "    test_loss /= num_batches\n",
    "    correct /= size\n",
    "    print(f\"Test Error: \\n Accuracy: {(100*correct):>0.1f}%, Avg loss: {test_loss:>8f} \\n\")"
   ]
  },
  {
   "cell_type": "code",
   "execution_count": 8,
   "id": "ef3d5e60",
   "metadata": {},
   "outputs": [],
   "source": [
    "learning_rate = 1e-4\n",
    "batch_size = 64\n",
    "epochs = 5"
   ]
  },
  {
   "cell_type": "code",
   "execution_count": 9,
   "id": "9831c918",
   "metadata": {
    "scrolled": true
   },
   "outputs": [
    {
     "name": "stdout",
     "output_type": "stream",
     "text": [
      "Epoch 1\n",
      "-------------------------------\n",
      "loss: 2.305995  [   64/60000]\n",
      "loss: 2.297616  [ 6464/60000]\n",
      "loss: 2.281141  [12864/60000]\n",
      "loss: 2.280077  [19264/60000]\n",
      "loss: 2.253096  [25664/60000]\n",
      "loss: 2.229966  [32064/60000]\n",
      "loss: 2.240906  [38464/60000]\n",
      "loss: 2.206267  [44864/60000]\n",
      "loss: 2.208893  [51264/60000]\n",
      "loss: 2.183862  [57664/60000]\n",
      "Test Error: \n",
      " Accuracy: 41.0%, Avg loss: 2.171801 \n",
      "\n",
      "Epoch 2\n",
      "-------------------------------\n",
      "loss: 2.175861  [   64/60000]\n",
      "loss: 2.173082  [ 6464/60000]\n",
      "loss: 2.118720  [12864/60000]\n",
      "loss: 2.141680  [19264/60000]\n",
      "loss: 2.092880  [25664/60000]\n",
      "loss: 2.026450  [32064/60000]\n",
      "loss: 2.068772  [38464/60000]\n",
      "loss: 1.984719  [44864/60000]\n",
      "loss: 2.002376  [51264/60000]\n",
      "loss: 1.948298  [57664/60000]\n",
      "Test Error: \n",
      " Accuracy: 56.0%, Avg loss: 1.930206 \n",
      "\n",
      "Epoch 3\n",
      "-------------------------------\n",
      "loss: 1.947665  [   64/60000]\n",
      "loss: 1.932713  [ 6464/60000]\n",
      "loss: 1.814854  [12864/60000]\n",
      "loss: 1.868166  [19264/60000]\n",
      "loss: 1.762993  [25664/60000]\n",
      "loss: 1.690617  [32064/60000]\n",
      "loss: 1.730096  [38464/60000]\n",
      "loss: 1.614001  [44864/60000]\n",
      "loss: 1.652690  [51264/60000]\n",
      "loss: 1.562290  [57664/60000]\n",
      "Test Error: \n",
      " Accuracy: 61.4%, Avg loss: 1.559496 \n",
      "\n",
      "Epoch 4\n",
      "-------------------------------\n",
      "loss: 1.606154  [   64/60000]\n",
      "loss: 1.585963  [ 6464/60000]\n",
      "loss: 1.427708  [12864/60000]\n",
      "loss: 1.513631  [19264/60000]\n",
      "loss: 1.393108  [25664/60000]\n",
      "loss: 1.365293  [32064/60000]\n",
      "loss: 1.387753  [38464/60000]\n",
      "loss: 1.300033  [44864/60000]\n",
      "loss: 1.350752  [51264/60000]\n",
      "loss: 1.253994  [57664/60000]\n",
      "Test Error: \n",
      " Accuracy: 63.4%, Avg loss: 1.271158 \n",
      "\n",
      "Epoch 5\n",
      "-------------------------------\n",
      "loss: 1.337306  [   64/60000]\n",
      "loss: 1.327205  [ 6464/60000]\n",
      "loss: 1.158271  [12864/60000]\n",
      "loss: 1.270968  [19264/60000]\n",
      "loss: 1.150092  [25664/60000]\n",
      "loss: 1.157398  [32064/60000]\n",
      "loss: 1.178469  [38464/60000]\n",
      "loss: 1.108115  [44864/60000]\n",
      "loss: 1.163145  [51264/60000]\n",
      "loss: 1.080526  [57664/60000]\n",
      "Test Error: \n",
      " Accuracy: 64.9%, Avg loss: 1.095110 \n",
      "\n",
      "Done!\n"
     ]
    }
   ],
   "source": [
    "loss_fn = nn.CrossEntropyLoss()\n",
    "optimizer = torch.optim.SGD(model.parameters(), lr=learning_rate)\n",
    "\n",
    "epochs = 5\n",
    "for t in range(epochs):\n",
    "    print(f\"Epoch {t+1}\\n-------------------------------\")\n",
    "    train_loop(train_dataloader, model, loss_fn, optimizer)\n",
    "    test_loop(test_dataloader, model, loss_fn)\n",
    "print(\"Done!\")"
   ]
  },
  {
   "cell_type": "code",
   "execution_count": 10,
   "id": "176cf757",
   "metadata": {},
   "outputs": [],
   "source": [
    "x = test_data[0][0]"
   ]
  },
  {
   "cell_type": "code",
   "execution_count": 11,
   "id": "28129f79",
   "metadata": {},
   "outputs": [],
   "source": [
    "y = test_data[0][1]"
   ]
  },
  {
   "cell_type": "code",
   "execution_count": 12,
   "id": "44e3cf12",
   "metadata": {},
   "outputs": [
    {
     "name": "stdout",
     "output_type": "stream",
     "text": [
      "Ankle Boot\n",
      "Ankle Boot\n"
     ]
    }
   ],
   "source": [
    "with torch.no_grad():\n",
    "    pred=model(x)\n",
    "    prediction = labels_map[pred[0].argmax(0)]\n",
    "    truth = labels_map[y]\n",
    "    print(prediction + \"\\n\" + truth)"
   ]
  },
  {
   "cell_type": "code",
   "execution_count": 13,
   "id": "d7a6296e",
   "metadata": {},
   "outputs": [],
   "source": [
    "x = test_data[1][0]"
   ]
  },
  {
   "cell_type": "code",
   "execution_count": 14,
   "id": "4029b5a5",
   "metadata": {},
   "outputs": [],
   "source": [
    "y = test_data[1][1]"
   ]
  },
  {
   "cell_type": "code",
   "execution_count": 15,
   "id": "2b699aad",
   "metadata": {},
   "outputs": [
    {
     "name": "stdout",
     "output_type": "stream",
     "text": [
      "Pullover\n",
      "Pullover\n"
     ]
    }
   ],
   "source": [
    "with torch.no_grad():\n",
    "    pred=model(x)\n",
    "    prediction = labels_map[pred[0].argmax(0)]\n",
    "    truth = labels_map[y]\n",
    "    print(prediction + \"\\n\" + truth)"
   ]
  },
  {
   "cell_type": "code",
   "execution_count": 16,
   "id": "339ab21a",
   "metadata": {},
   "outputs": [],
   "source": [
    "x = test_data[2][0]"
   ]
  },
  {
   "cell_type": "code",
   "execution_count": 17,
   "id": "49a721a6",
   "metadata": {},
   "outputs": [],
   "source": [
    "y = test_data[2][1]"
   ]
  },
  {
   "cell_type": "code",
   "execution_count": 18,
   "id": "ea9b1c49",
   "metadata": {},
   "outputs": [
    {
     "name": "stdout",
     "output_type": "stream",
     "text": [
      "Trouser\n",
      "Trouser\n"
     ]
    }
   ],
   "source": [
    "with torch.no_grad():\n",
    "    pred=model(x)\n",
    "    prediction = labels_map[pred[0].argmax(0)]\n",
    "    truth = labels_map[y]\n",
    "    print(prediction + \"\\n\" + truth)"
   ]
  },
  {
   "cell_type": "code",
   "execution_count": 19,
   "id": "2d6e8283",
   "metadata": {},
   "outputs": [],
   "source": [
    "x = test_data[3][0]"
   ]
  },
  {
   "cell_type": "code",
   "execution_count": 20,
   "id": "a22f0d47",
   "metadata": {},
   "outputs": [],
   "source": [
    "y = test_data[3][1]"
   ]
  },
  {
   "cell_type": "code",
   "execution_count": 21,
   "id": "5f8f77a8",
   "metadata": {},
   "outputs": [
    {
     "name": "stdout",
     "output_type": "stream",
     "text": [
      "Trouser\n",
      "Trouser\n"
     ]
    }
   ],
   "source": [
    "with torch.no_grad():\n",
    "    pred=model(x)\n",
    "    prediction = labels_map[pred[0].argmax(0)]\n",
    "    truth = labels_map[y]\n",
    "    print(prediction + \"\\n\" + truth)"
   ]
  },
  {
   "cell_type": "code",
   "execution_count": 22,
   "id": "0d721eb8",
   "metadata": {},
   "outputs": [],
   "source": [
    "x = test_data[4][0]"
   ]
  },
  {
   "cell_type": "code",
   "execution_count": 23,
   "id": "ed56ae62",
   "metadata": {},
   "outputs": [],
   "source": [
    "y = test_data[4][1]"
   ]
  },
  {
   "cell_type": "code",
   "execution_count": 24,
   "id": "014596dc",
   "metadata": {},
   "outputs": [
    {
     "name": "stdout",
     "output_type": "stream",
     "text": [
      "Shirt\n",
      "Shirt\n"
     ]
    }
   ],
   "source": [
    "with torch.no_grad():\n",
    "    pred=model(x)\n",
    "    prediction = labels_map[pred[0].argmax(0)]\n",
    "    truth = labels_map[y]\n",
    "    print(prediction + \"\\n\" + truth)"
   ]
  },
  {
   "cell_type": "code",
   "execution_count": 25,
   "id": "972752e6",
   "metadata": {},
   "outputs": [],
   "source": [
    "x = test_data[5][0]\n",
    "y = test_data[5][1]"
   ]
  },
  {
   "cell_type": "code",
   "execution_count": 26,
   "id": "c42cf375",
   "metadata": {},
   "outputs": [
    {
     "name": "stdout",
     "output_type": "stream",
     "text": [
      "Trouser\n",
      "Trouser\n"
     ]
    }
   ],
   "source": [
    "with torch.no_grad():\n",
    "    pred=model(x)\n",
    "    prediction = labels_map[pred[0].argmax(0)]\n",
    "    truth = labels_map[y]\n",
    "    print(prediction + \"\\n\" + truth)"
   ]
  },
  {
   "cell_type": "code",
   "execution_count": 27,
   "id": "d3674bb1",
   "metadata": {},
   "outputs": [],
   "source": [
    "x = test_data[6][0]\n",
    "y = test_data[6][1]"
   ]
  },
  {
   "cell_type": "code",
   "execution_count": 28,
   "id": "08ef2014",
   "metadata": {},
   "outputs": [
    {
     "name": "stdout",
     "output_type": "stream",
     "text": [
      "Coat\n",
      "Coat\n"
     ]
    }
   ],
   "source": [
    "with torch.no_grad():\n",
    "    pred=model(x)\n",
    "    prediction = labels_map[pred[0].argmax(0)]\n",
    "    truth = labels_map[y]\n",
    "    print(prediction + \"\\n\" + truth)"
   ]
  },
  {
   "cell_type": "code",
   "execution_count": 29,
   "id": "10d5f6b4",
   "metadata": {},
   "outputs": [],
   "source": [
    "x = test_data[7][0]\n",
    "y = test_data[7][1]"
   ]
  },
  {
   "cell_type": "code",
   "execution_count": 30,
   "id": "dd7c1d9a",
   "metadata": {},
   "outputs": [
    {
     "name": "stdout",
     "output_type": "stream",
     "text": [
      "Coat\n",
      "Shirt\n"
     ]
    }
   ],
   "source": [
    "with torch.no_grad():\n",
    "    pred=model(x)\n",
    "    prediction = labels_map[pred[0].argmax(0)]\n",
    "    truth = labels_map[y]\n",
    "    print(prediction + \"\\n\" + truth)"
   ]
  },
  {
   "cell_type": "code",
   "execution_count": 31,
   "id": "c39389ae",
   "metadata": {},
   "outputs": [],
   "source": [
    "x = test_data[8][0]\n",
    "y = test_data[8][1]\n"
   ]
  },
  {
   "cell_type": "code",
   "execution_count": 32,
   "id": "86544b82",
   "metadata": {},
   "outputs": [
    {
     "name": "stdout",
     "output_type": "stream",
     "text": [
      "Sneaker\n",
      "Sandal\n"
     ]
    }
   ],
   "source": [
    "with torch.no_grad():\n",
    "    pred=model(x)\n",
    "    prediction = labels_map[pred[0].argmax(0)]\n",
    "    truth = labels_map[y]\n",
    "    print(prediction + \"\\n\" + truth)"
   ]
  },
  {
   "cell_type": "code",
   "execution_count": 33,
   "id": "0f4a324c",
   "metadata": {},
   "outputs": [],
   "source": [
    "x = test_data[9][0]\n",
    "y = test_data[9][1]"
   ]
  },
  {
   "cell_type": "code",
   "execution_count": 34,
   "id": "f5d2a8e2",
   "metadata": {},
   "outputs": [
    {
     "name": "stdout",
     "output_type": "stream",
     "text": [
      "Sneaker\n",
      "Sneaker\n"
     ]
    }
   ],
   "source": [
    "with torch.no_grad():\n",
    "    pred=model(x)\n",
    "    prediction = labels_map[pred[0].argmax(0)]\n",
    "    truth = labels_map[y]\n",
    "    print(prediction + \"\\n\" + truth)"
   ]
  },
  {
   "cell_type": "code",
   "execution_count": null,
   "id": "4c6c96fa",
   "metadata": {},
   "outputs": [],
   "source": []
  }
 ],
 "metadata": {
  "kernelspec": {
   "display_name": "Python 3 (ipykernel)",
   "language": "python",
   "name": "python3"
  },
  "language_info": {
   "codemirror_mode": {
    "name": "ipython",
    "version": 3
   },
   "file_extension": ".py",
   "mimetype": "text/x-python",
   "name": "python",
   "nbconvert_exporter": "python",
   "pygments_lexer": "ipython3",
   "version": "3.10.9"
  }
 },
 "nbformat": 4,
 "nbformat_minor": 5
}
